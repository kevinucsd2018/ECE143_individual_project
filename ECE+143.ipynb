{
 "cells": [
  {
   "cell_type": "code",
   "execution_count": 2,
   "metadata": {
    "collapsed": true
   },
   "outputs": [],
   "source": [
    "# import Python Libraries for the Individual Project\n",
    "import numpy as np\n",
    "import matplotlib.pyplot as plt\n",
    "import matplotlib.patches as patches\n",
    "import random "
   ]
  },
  {
   "cell_type": "markdown",
   "metadata": {},
   "source": [
    "* Documentation: This is project"
   ]
  },
  {
   "cell_type": "code",
   "execution_count": 16,
   "metadata": {
    "collapsed": true
   },
   "outputs": [],
   "source": [
    "class MyClass(object):\n",
    "\n",
    "    # MyClass object (self) contains several relevant fields as listed below:\n",
    "    #\n",
    "    # self.length - length of the desired coverage footprint\n",
    "    # self.width - width of the desired coverage footprint \n",
    "    # self.map - desired coverage footprint \n",
    "    # self.tower - number of towers on the desired coverage footprint\n",
    "    # self.trial - number of trials on the desired coverage footprint\n",
    "    # self.totalArea - total area of the desired coverage footprint\n",
    "    # self.currentArea - currentarea of the desired coverage footprint\n",
    "    # self.colorList - a list of colors used for the desired coverage footprint\n",
    "    \n",
    "    def __init__(self, length, width):\n",
    "        '''\n",
    "        Given `self`, which is a MyClass object, `length`, which is the length of \n",
    "        the desired coverage footprint, and `width`, which is the width of the \n",
    "        desired coverage footprint, the init method initializes the desired \n",
    "        coverage footprint with the given dimension to the MyClass object. \n",
    "    \n",
    "        :param length: length of the desired coverage footprint\n",
    "        :type length: int\n",
    "        :param width: width of the desired coverage footprint\n",
    "        :type length: int\n",
    "        :returns: none\n",
    "        '''\n",
    "        # relevant assert statements \n",
    "        assert isinstance(length, int), 'Invalid input: parameter length is not type int'\n",
    "        assert isinstance(width, int), 'Invalid input: parameter width is not type int'\n",
    "        assert length > 0, 'Invalid input: paramater length is not a positive integer'\n",
    "        assert width > 0, 'Invalid input: paramater width is not a positive integer'\n",
    "        # set relavant fields for MyClass object\n",
    "        self.length = length\n",
    "        self.width = width\n",
    "        self.map = np.zeros((self.length , self.width)).astype(int)\n",
    "        self.tower = self.trial = self.currentArea = 0\n",
    "        self.totalArea = length * width\n",
    "        colorList = []\n",
    "        numColors = 100\n",
    "        for i in range(numColors):\n",
    "            colorList.append('%06X' % random.randint(0, 0xFFFFFF))\n",
    "            colorList[i] = '#' + colorList[i]\n",
    "        self.colorList = colorList \n",
    "    \n",
    "    def add(self, startLength, startWidth, endLength, endWidth):\n",
    "        '''\n",
    "        Given `self`, which is a MyClass object, `startlength`, which is the \n",
    "        start position of length for the desired coverage footprint, \n",
    "        `startwidth`, which is the start position of width for the desired \n",
    "        coverage footprint, `endlength`, which is the end position of length \n",
    "        for the desired coverage footprint, and `endwidth`, which is the end \n",
    "        position of width for the desired coverage footprint, the add method\n",
    "        adds the rectangle with given specifications to the desired coverage \n",
    "        footprint of the MyClass object\n",
    "    \n",
    "        :param startLength: start position of length of the desired coverage footprint\n",
    "        :type length: int\n",
    "        :param startWidth: start position of width of the desired coverage footprint\n",
    "        :type length: int\n",
    "        :param endLength: end position of length of the desired coverage footprint\n",
    "        :type length: int\n",
    "        :param endWidth: end position of width of the desired coverage footprint\n",
    "        :type length: int\n",
    "        :returns: \n",
    "                    -1 if rectangle is not added to the desired coverage footprint\n",
    "                    0  if the desired coverage footprint is fully occupied\n",
    "                    1  if rectangle is added to the desired coverage footprint\n",
    "        '''\n",
    "        # relevant assert statements \n",
    "        assert isinstance(startLength, int), 'Invalid input: parameter startLength is not type int'\n",
    "        assert isinstance(startWidth, int), 'Invalid input: parameter startWidth is not type int'\n",
    "        assert isinstance(endLength, int), 'Invalid input: parameter endLength is not type int'\n",
    "        assert isinstance(endWidth, int), 'Invalid input: parameter endWidth is not type int'\n",
    "        assert startLength in range(0, endLength), 'Invalid input: paramater startLength is not in range'\n",
    "        assert startWidth in range(0, endWidth), 'Invalid input: paramater startWidth is not in range'\n",
    "        assert endLength in range(startLength + 1, self.length + 1), 'Invalid input: paramater endLength is not in range'\n",
    "        assert endWidth in range(startWidth + 1, self.width + 1), 'Invalid input: paramater endWidth is not in range'\n",
    "        # check if the desired coverage footprint is fully occupied\n",
    "        if self.currentArea == self.totalArea: return 0 \n",
    "        flag = False\n",
    "        # add rectangle to the desired coverage footprint\n",
    "        for i in range(startLength, endLength):\n",
    "            for j in range(startWidth, endWidth):\n",
    "                if self.map[i][j] == 0:\n",
    "                    self.map[i][j] = self.tower + 1\n",
    "                    flag = True\n",
    "                    self.currentArea += 1\n",
    "        self.trial += 1\n",
    "        # check if rectangle is not added to the desired coverage footprint\n",
    "        if flag == False: return -1  \n",
    "        flag = False\n",
    "        maxcount = bestI = bestJ = bestK = bestL = -1\n",
    "        # find optimal tuple of (startLength, startWidth, endLength, endWidth) that gives maximum area\n",
    "        for i in range(startLength, endLength):\n",
    "            for j in range(startWidth, endWidth):\n",
    "                count = 0\n",
    "                for k in range(i, endLength):\n",
    "                    for l in range(j, endWidth):\n",
    "                        if self.map[k][l] == self.tower + 1: count += 1\n",
    "                        else: \n",
    "                            flag = True \n",
    "                            break    \n",
    "                        if count > maxcount: \n",
    "                            maxcount = count\n",
    "                            (bestI, bestJ, bestK, bestL) = (i, j, k, l)\n",
    "                    if flag == True: break\n",
    "        (xRange, yRange) =  (range(bestI, bestK + 1), range(bestJ, bestL + 1))\n",
    "        # zero out areas outside of the rectangle to give the correct shape of the desired coverage footprint\n",
    "        for i in range(startLength, endLength):\n",
    "            for j in range(startWidth, endWidth):\n",
    "                flag = i not in xRange or j not in yRange\n",
    "                if self.map[i][j] == self.tower + 1 and flag == True: \n",
    "                    self.map[i][j] = 0\n",
    "                    self.currentArea -= 1 \n",
    "        self.tower += 1\n",
    "        # return 1 since rectangle is added to the desired coverage footprint\n",
    "        return 1\n",
    "        \n",
    "    def displayMap(self):\n",
    "        '''\n",
    "        Given `self`, which is a MyClass object, the displayMap method \n",
    "        displays the desired coverage footprint for the MyClass object. \n",
    "    \n",
    "        :returns: none\n",
    "        '''\n",
    "        figureSize = 5\n",
    "        # set the figure and axis for the plot\n",
    "        plt.figure(figsize = (figureSize, figureSize))\n",
    "        plt.xlim((0, self.length))   \n",
    "        plt.ylim((0, self.width))\n",
    "        plt.xticks(np.arange(0, self.length + 1, 1.0))\n",
    "        plt.yticks(np.arange(0, self.width + 1, 1.0))\n",
    "        ax = plt.subplot()\n",
    "        # add colors to rectangles one by one and then display the plot\n",
    "        for i in range(1, self.tower + 1):\n",
    "            for j in range(0, self.length):\n",
    "                for k in range(0, self.width):\n",
    "                    if self.map[j][k] == i:\n",
    "                        rect = patches.Rectangle((j,k), 1, 1, alpha = 1, color = self.colorList[i])\n",
    "                        ax.add_patch(rect)\n",
    "                        plt.text(j + 0.5, k + 0.5, i,\n",
    "                        horizontalalignment = 'center',\n",
    "                        verticalalignment = 'center',\n",
    "                        fontsize = 10)\n",
    "        plt.show()\n",
    "  \n",
    "    def getNumTowers(self):\n",
    "        '''\n",
    "        Given `self`, which is a MyClass object, the getNumTowers method \n",
    "        returns the number of towers on the desired coverage footprint for the MyClass object. \n",
    "    \n",
    "        :returns: number of towers on the desired coverage footprint for the MyClass object\n",
    "        '''\n",
    "        return self.tower\n",
    "        \n",
    "    def getNumTrials(self):\n",
    "        '''\n",
    "        Given `self`, which is a MyClass object, the getNumTrials method \n",
    "        returns the number of trials on the desired coverage footprint for the MyClass object. \n",
    "    \n",
    "        :returns: number of trials on the desired coverage footprint for the MyClass object\n",
    "        '''\n",
    "        return self.trial\n",
    "        \n",
    "    def getTotalArea(self):\n",
    "        '''\n",
    "        Given `self`, which is a MyClass object, the getTotalArea method \n",
    "        returns the total area of the desired coverage footprint for the MyClass object. \n",
    "    \n",
    "        :returns: total area of the desired coverage footprint for the MyClass object\n",
    "        '''\n",
    "        return self.totalArea\n",
    "\n",
    "    def getCurrentArea(self):\n",
    "        '''\n",
    "        Given `self`, which is a MyClass object, the getCurrentArea method \n",
    "        returns the current area of the desired coverage footprint for the MyClass object. \n",
    "    \n",
    "        :returns: current area of the desired coverage footprint for the MyClass object\n",
    "        '''\n",
    "        return self.currentArea\n"
   ]
  },
  {
   "cell_type": "code",
   "execution_count": 4,
   "metadata": {},
   "outputs": [
    {
     "ename": "AssertionError",
     "evalue": "Invalid input: paramater length is not a positive integer",
     "output_type": "error",
     "traceback": [
      "\u001b[0;31m---------------------------------------------------------------------------\u001b[0m",
      "\u001b[0;31mAssertionError\u001b[0m                            Traceback (most recent call last)",
      "\u001b[0;32m<ipython-input-4-595604ee97e0>\u001b[0m in \u001b[0;36m<module>\u001b[0;34m()\u001b[0m\n\u001b[1;32m      2\u001b[0m \u001b[0mxLim\u001b[0m \u001b[0;34m=\u001b[0m \u001b[0;34m-\u001b[0m\u001b[0;36m5\u001b[0m\u001b[0;34m\u001b[0m\u001b[0m\n\u001b[1;32m      3\u001b[0m \u001b[0myLim\u001b[0m \u001b[0;34m=\u001b[0m \u001b[0;34m-\u001b[0m\u001b[0;36m3\u001b[0m\u001b[0;34m\u001b[0m\u001b[0m\n\u001b[0;32m----> 4\u001b[0;31m \u001b[0mnet\u001b[0m \u001b[0;34m=\u001b[0m \u001b[0mMyClass\u001b[0m\u001b[0;34m(\u001b[0m\u001b[0mxLim\u001b[0m\u001b[0;34m,\u001b[0m \u001b[0myLim\u001b[0m\u001b[0;34m)\u001b[0m\u001b[0;34m\u001b[0m\u001b[0m\n\u001b[0m",
      "\u001b[0;32m<ipython-input-3-08378e7d4801>\u001b[0m in \u001b[0;36m__init__\u001b[0;34m(self, length, width)\u001b[0m\n\u001b[1;32m     28\u001b[0m         \u001b[0;32massert\u001b[0m \u001b[0misinstance\u001b[0m\u001b[0;34m(\u001b[0m\u001b[0mlength\u001b[0m\u001b[0;34m,\u001b[0m \u001b[0mint\u001b[0m\u001b[0;34m)\u001b[0m\u001b[0;34m,\u001b[0m \u001b[0;34m'Invalid input: parameter length is not type int'\u001b[0m\u001b[0;34m\u001b[0m\u001b[0m\n\u001b[1;32m     29\u001b[0m         \u001b[0;32massert\u001b[0m \u001b[0misinstance\u001b[0m\u001b[0;34m(\u001b[0m\u001b[0mwidth\u001b[0m\u001b[0;34m,\u001b[0m \u001b[0mint\u001b[0m\u001b[0;34m)\u001b[0m\u001b[0;34m,\u001b[0m \u001b[0;34m'Invalid input: parameter width is not type int'\u001b[0m\u001b[0;34m\u001b[0m\u001b[0m\n\u001b[0;32m---> 30\u001b[0;31m         \u001b[0;32massert\u001b[0m \u001b[0mlength\u001b[0m \u001b[0;34m>\u001b[0m \u001b[0;36m0\u001b[0m\u001b[0;34m,\u001b[0m \u001b[0;34m'Invalid input: paramater length is not a positive integer'\u001b[0m\u001b[0;34m\u001b[0m\u001b[0m\n\u001b[0m\u001b[1;32m     31\u001b[0m         \u001b[0;32massert\u001b[0m \u001b[0mwidth\u001b[0m \u001b[0;34m>\u001b[0m \u001b[0;36m0\u001b[0m\u001b[0;34m,\u001b[0m \u001b[0;34m'Invalid input: paramater width is not a positive integer'\u001b[0m\u001b[0;34m\u001b[0m\u001b[0m\n\u001b[1;32m     32\u001b[0m         \u001b[0;31m# set relavant fields for MyClass object\u001b[0m\u001b[0;34m\u001b[0m\u001b[0;34m\u001b[0m\u001b[0m\n",
      "\u001b[0;31mAssertionError\u001b[0m: Invalid input: paramater length is not a positive integer"
     ]
    }
   ],
   "source": [
    "# Test Case 1 for init: negative inputs\n",
    "xLim = -5\n",
    "yLim = -3\n",
    "net = MyClass(xLim, yLim)"
   ]
  },
  {
   "cell_type": "code",
   "execution_count": 5,
   "metadata": {},
   "outputs": [
    {
     "ename": "AssertionError",
     "evalue": "Invalid input: parameter width is not type int",
     "output_type": "error",
     "traceback": [
      "\u001b[0;31m---------------------------------------------------------------------------\u001b[0m",
      "\u001b[0;31mAssertionError\u001b[0m                            Traceback (most recent call last)",
      "\u001b[0;32m<ipython-input-5-1131a5700fd8>\u001b[0m in \u001b[0;36m<module>\u001b[0;34m()\u001b[0m\n\u001b[1;32m      2\u001b[0m \u001b[0mxLim\u001b[0m \u001b[0;34m=\u001b[0m \u001b[0;36m1\u001b[0m\u001b[0;34m\u001b[0m\u001b[0m\n\u001b[1;32m      3\u001b[0m \u001b[0myLim\u001b[0m \u001b[0;34m=\u001b[0m \u001b[0mlist\u001b[0m\u001b[0;34m(\u001b[0m\u001b[0;34m)\u001b[0m\u001b[0;34m\u001b[0m\u001b[0m\n\u001b[0;32m----> 4\u001b[0;31m \u001b[0mnet\u001b[0m \u001b[0;34m=\u001b[0m \u001b[0mMyClass\u001b[0m\u001b[0;34m(\u001b[0m\u001b[0mxLim\u001b[0m\u001b[0;34m,\u001b[0m \u001b[0myLim\u001b[0m\u001b[0;34m)\u001b[0m\u001b[0;34m\u001b[0m\u001b[0m\n\u001b[0m",
      "\u001b[0;32m<ipython-input-3-08378e7d4801>\u001b[0m in \u001b[0;36m__init__\u001b[0;34m(self, length, width)\u001b[0m\n\u001b[1;32m     27\u001b[0m         \u001b[0;31m# relevant assert statements\u001b[0m\u001b[0;34m\u001b[0m\u001b[0;34m\u001b[0m\u001b[0m\n\u001b[1;32m     28\u001b[0m         \u001b[0;32massert\u001b[0m \u001b[0misinstance\u001b[0m\u001b[0;34m(\u001b[0m\u001b[0mlength\u001b[0m\u001b[0;34m,\u001b[0m \u001b[0mint\u001b[0m\u001b[0;34m)\u001b[0m\u001b[0;34m,\u001b[0m \u001b[0;34m'Invalid input: parameter length is not type int'\u001b[0m\u001b[0;34m\u001b[0m\u001b[0m\n\u001b[0;32m---> 29\u001b[0;31m         \u001b[0;32massert\u001b[0m \u001b[0misinstance\u001b[0m\u001b[0;34m(\u001b[0m\u001b[0mwidth\u001b[0m\u001b[0;34m,\u001b[0m \u001b[0mint\u001b[0m\u001b[0;34m)\u001b[0m\u001b[0;34m,\u001b[0m \u001b[0;34m'Invalid input: parameter width is not type int'\u001b[0m\u001b[0;34m\u001b[0m\u001b[0m\n\u001b[0m\u001b[1;32m     30\u001b[0m         \u001b[0;32massert\u001b[0m \u001b[0mlength\u001b[0m \u001b[0;34m>\u001b[0m \u001b[0;36m0\u001b[0m\u001b[0;34m,\u001b[0m \u001b[0;34m'Invalid input: paramater length is not a positive integer'\u001b[0m\u001b[0;34m\u001b[0m\u001b[0m\n\u001b[1;32m     31\u001b[0m         \u001b[0;32massert\u001b[0m \u001b[0mwidth\u001b[0m \u001b[0;34m>\u001b[0m \u001b[0;36m0\u001b[0m\u001b[0;34m,\u001b[0m \u001b[0;34m'Invalid input: paramater width is not a positive integer'\u001b[0m\u001b[0;34m\u001b[0m\u001b[0m\n",
      "\u001b[0;31mAssertionError\u001b[0m: Invalid input: parameter width is not type int"
     ]
    }
   ],
   "source": [
    "# Test Case 2 for init: non-integer inputs\n",
    "xLim = 1\n",
    "yLim = list()\n",
    "net = MyClass(xLim, yLim)"
   ]
  },
  {
   "cell_type": "code",
   "execution_count": 6,
   "metadata": {},
   "outputs": [
    {
     "ename": "AssertionError",
     "evalue": "Invalid input: parameter startLength is not type int",
     "output_type": "error",
     "traceback": [
      "\u001b[0;31m---------------------------------------------------------------------------\u001b[0m",
      "\u001b[0;31mAssertionError\u001b[0m                            Traceback (most recent call last)",
      "\u001b[0;32m<ipython-input-6-b8895e9adcb3>\u001b[0m in \u001b[0;36m<module>\u001b[0;34m()\u001b[0m\n\u001b[1;32m      7\u001b[0m \u001b[0mendLength\u001b[0m \u001b[0;34m=\u001b[0m \u001b[0;36m4.0\u001b[0m\u001b[0;34m\u001b[0m\u001b[0m\n\u001b[1;32m      8\u001b[0m \u001b[0mendWidth\u001b[0m \u001b[0;34m=\u001b[0m \u001b[0mlist\u001b[0m\u001b[0;34m(\u001b[0m\u001b[0;34m)\u001b[0m\u001b[0;34m\u001b[0m\u001b[0m\n\u001b[0;32m----> 9\u001b[0;31m \u001b[0mvalue\u001b[0m \u001b[0;34m=\u001b[0m \u001b[0mnet\u001b[0m\u001b[0;34m.\u001b[0m\u001b[0madd\u001b[0m\u001b[0;34m(\u001b[0m\u001b[0mstartLength\u001b[0m\u001b[0;34m,\u001b[0m \u001b[0mstartWidth\u001b[0m\u001b[0;34m,\u001b[0m \u001b[0mendLength\u001b[0m\u001b[0;34m,\u001b[0m \u001b[0mendWidth\u001b[0m\u001b[0;34m)\u001b[0m\u001b[0;34m\u001b[0m\u001b[0m\n\u001b[0m",
      "\u001b[0;32m<ipython-input-3-08378e7d4801>\u001b[0m in \u001b[0;36madd\u001b[0;34m(self, startLength, startWidth, endLength, endWidth)\u001b[0m\n\u001b[1;32m     68\u001b[0m         '''\n\u001b[1;32m     69\u001b[0m         \u001b[0;31m# relevant assert statements\u001b[0m\u001b[0;34m\u001b[0m\u001b[0;34m\u001b[0m\u001b[0m\n\u001b[0;32m---> 70\u001b[0;31m         \u001b[0;32massert\u001b[0m \u001b[0misinstance\u001b[0m\u001b[0;34m(\u001b[0m\u001b[0mstartLength\u001b[0m\u001b[0;34m,\u001b[0m \u001b[0mint\u001b[0m\u001b[0;34m)\u001b[0m\u001b[0;34m,\u001b[0m \u001b[0;34m'Invalid input: parameter startLength is not type int'\u001b[0m\u001b[0;34m\u001b[0m\u001b[0m\n\u001b[0m\u001b[1;32m     71\u001b[0m         \u001b[0;32massert\u001b[0m \u001b[0misinstance\u001b[0m\u001b[0;34m(\u001b[0m\u001b[0mstartWidth\u001b[0m\u001b[0;34m,\u001b[0m \u001b[0mint\u001b[0m\u001b[0;34m)\u001b[0m\u001b[0;34m,\u001b[0m \u001b[0;34m'Invalid input: parameter startWidth is not type int'\u001b[0m\u001b[0;34m\u001b[0m\u001b[0m\n\u001b[1;32m     72\u001b[0m         \u001b[0;32massert\u001b[0m \u001b[0misinstance\u001b[0m\u001b[0;34m(\u001b[0m\u001b[0mendLength\u001b[0m\u001b[0;34m,\u001b[0m \u001b[0mint\u001b[0m\u001b[0;34m)\u001b[0m\u001b[0;34m,\u001b[0m \u001b[0;34m'Invalid input: parameter endLength is not type int'\u001b[0m\u001b[0;34m\u001b[0m\u001b[0m\n",
      "\u001b[0;31mAssertionError\u001b[0m: Invalid input: parameter startLength is not type int"
     ]
    }
   ],
   "source": [
    "# Test Case 1 for add: non-integer inputs\n",
    "xLim = 5\n",
    "yLim = 5\n",
    "net = MyClass(xLim, yLim)\n",
    "startLength = range(1,1)\n",
    "startWidth = (1,1)\n",
    "endLength = 4.0\n",
    "endWidth = list()\n",
    "value = net.add(startLength, startWidth, endLength, endWidth)    "
   ]
  },
  {
   "cell_type": "code",
   "execution_count": 7,
   "metadata": {},
   "outputs": [
    {
     "ename": "AssertionError",
     "evalue": "Invalid input: paramater startLength is not in range",
     "output_type": "error",
     "traceback": [
      "\u001b[0;31m---------------------------------------------------------------------------\u001b[0m",
      "\u001b[0;31mAssertionError\u001b[0m                            Traceback (most recent call last)",
      "\u001b[0;32m<ipython-input-7-1d1fae98a27d>\u001b[0m in \u001b[0;36m<module>\u001b[0;34m()\u001b[0m\n\u001b[1;32m      7\u001b[0m \u001b[0mendLength\u001b[0m \u001b[0;34m=\u001b[0m \u001b[0;36m2\u001b[0m\u001b[0;34m\u001b[0m\u001b[0m\n\u001b[1;32m      8\u001b[0m \u001b[0mendWidth\u001b[0m \u001b[0;34m=\u001b[0m \u001b[0;36m3\u001b[0m\u001b[0;34m\u001b[0m\u001b[0m\n\u001b[0;32m----> 9\u001b[0;31m \u001b[0mvalue\u001b[0m \u001b[0;34m=\u001b[0m \u001b[0mnet\u001b[0m\u001b[0;34m.\u001b[0m\u001b[0madd\u001b[0m\u001b[0;34m(\u001b[0m\u001b[0mstartLength\u001b[0m\u001b[0;34m,\u001b[0m \u001b[0mstartWidth\u001b[0m\u001b[0;34m,\u001b[0m \u001b[0mendLength\u001b[0m\u001b[0;34m,\u001b[0m \u001b[0mendWidth\u001b[0m\u001b[0;34m)\u001b[0m\u001b[0;34m\u001b[0m\u001b[0m\n\u001b[0m\u001b[1;32m     10\u001b[0m \u001b[0mnet\u001b[0m\u001b[0;34m.\u001b[0m\u001b[0mdisplayMap\u001b[0m\u001b[0;34m(\u001b[0m\u001b[0;34m)\u001b[0m\u001b[0;34m\u001b[0m\u001b[0m\n",
      "\u001b[0;32m<ipython-input-3-08378e7d4801>\u001b[0m in \u001b[0;36madd\u001b[0;34m(self, startLength, startWidth, endLength, endWidth)\u001b[0m\n\u001b[1;32m     72\u001b[0m         \u001b[0;32massert\u001b[0m \u001b[0misinstance\u001b[0m\u001b[0;34m(\u001b[0m\u001b[0mendLength\u001b[0m\u001b[0;34m,\u001b[0m \u001b[0mint\u001b[0m\u001b[0;34m)\u001b[0m\u001b[0;34m,\u001b[0m \u001b[0;34m'Invalid input: parameter endLength is not type int'\u001b[0m\u001b[0;34m\u001b[0m\u001b[0m\n\u001b[1;32m     73\u001b[0m         \u001b[0;32massert\u001b[0m \u001b[0misinstance\u001b[0m\u001b[0;34m(\u001b[0m\u001b[0mendWidth\u001b[0m\u001b[0;34m,\u001b[0m \u001b[0mint\u001b[0m\u001b[0;34m)\u001b[0m\u001b[0;34m,\u001b[0m \u001b[0;34m'Invalid input: parameter endWidth is not type int'\u001b[0m\u001b[0;34m\u001b[0m\u001b[0m\n\u001b[0;32m---> 74\u001b[0;31m         \u001b[0;32massert\u001b[0m \u001b[0mstartLength\u001b[0m \u001b[0;32min\u001b[0m \u001b[0mrange\u001b[0m\u001b[0;34m(\u001b[0m\u001b[0;36m0\u001b[0m\u001b[0;34m,\u001b[0m \u001b[0mendLength\u001b[0m\u001b[0;34m)\u001b[0m\u001b[0;34m,\u001b[0m \u001b[0;34m'Invalid input: paramater startLength is not in range'\u001b[0m\u001b[0;34m\u001b[0m\u001b[0m\n\u001b[0m\u001b[1;32m     75\u001b[0m         \u001b[0;32massert\u001b[0m \u001b[0mstartWidth\u001b[0m \u001b[0;32min\u001b[0m \u001b[0mrange\u001b[0m\u001b[0;34m(\u001b[0m\u001b[0;36m0\u001b[0m\u001b[0;34m,\u001b[0m \u001b[0mendWidth\u001b[0m\u001b[0;34m)\u001b[0m\u001b[0;34m,\u001b[0m \u001b[0;34m'Invalid input: paramater startWidth is not in range'\u001b[0m\u001b[0;34m\u001b[0m\u001b[0m\n\u001b[1;32m     76\u001b[0m         \u001b[0;32massert\u001b[0m \u001b[0mendLength\u001b[0m \u001b[0;32min\u001b[0m \u001b[0mrange\u001b[0m\u001b[0;34m(\u001b[0m\u001b[0mstartLength\u001b[0m \u001b[0;34m+\u001b[0m \u001b[0;36m1\u001b[0m\u001b[0;34m,\u001b[0m \u001b[0mself\u001b[0m\u001b[0;34m.\u001b[0m\u001b[0mlength\u001b[0m \u001b[0;34m+\u001b[0m \u001b[0;36m1\u001b[0m\u001b[0;34m)\u001b[0m\u001b[0;34m,\u001b[0m \u001b[0;34m'Invalid input: paramater endLength is not in range'\u001b[0m\u001b[0;34m\u001b[0m\u001b[0m\n",
      "\u001b[0;31mAssertionError\u001b[0m: Invalid input: paramater startLength is not in range"
     ]
    }
   ],
   "source": [
    "# Test Case 1 for add: startLength >= endLength or startWidth >= endWidth\n",
    "xLim = 5\n",
    "yLim = 5\n",
    "net = MyClass(xLim, yLim)\n",
    "startLength = 4\n",
    "startWidth = 3\n",
    "endLength = 2\n",
    "endWidth = 3\n",
    "value = net.add(startLength, startWidth, endLength, endWidth) \n",
    "net.displayMap()\n"
   ]
  },
  {
   "cell_type": "code",
   "execution_count": 8,
   "metadata": {},
   "outputs": [
    {
     "ename": "AssertionError",
     "evalue": "Invalid input: paramater startLength is not in range",
     "output_type": "error",
     "traceback": [
      "\u001b[0;31m---------------------------------------------------------------------------\u001b[0m",
      "\u001b[0;31mAssertionError\u001b[0m                            Traceback (most recent call last)",
      "\u001b[0;32m<ipython-input-8-d3e23fe36f78>\u001b[0m in \u001b[0;36m<module>\u001b[0;34m()\u001b[0m\n\u001b[1;32m      7\u001b[0m \u001b[0mendLength\u001b[0m \u001b[0;34m=\u001b[0m \u001b[0;36m5\u001b[0m\u001b[0;34m\u001b[0m\u001b[0m\n\u001b[1;32m      8\u001b[0m \u001b[0mendWidth\u001b[0m \u001b[0;34m=\u001b[0m \u001b[0;36m5\u001b[0m\u001b[0;34m\u001b[0m\u001b[0m\n\u001b[0;32m----> 9\u001b[0;31m \u001b[0mvalue\u001b[0m \u001b[0;34m=\u001b[0m \u001b[0mnet\u001b[0m\u001b[0;34m.\u001b[0m\u001b[0madd\u001b[0m\u001b[0;34m(\u001b[0m\u001b[0mstartLength\u001b[0m\u001b[0;34m,\u001b[0m \u001b[0mstartWidth\u001b[0m\u001b[0;34m,\u001b[0m \u001b[0mendLength\u001b[0m\u001b[0;34m,\u001b[0m \u001b[0mendWidth\u001b[0m\u001b[0;34m)\u001b[0m\u001b[0;34m\u001b[0m\u001b[0m\n\u001b[0m\u001b[1;32m     10\u001b[0m \u001b[0mnet\u001b[0m\u001b[0;34m.\u001b[0m\u001b[0mdisplayMap\u001b[0m\u001b[0;34m(\u001b[0m\u001b[0;34m)\u001b[0m\u001b[0;34m\u001b[0m\u001b[0m\n",
      "\u001b[0;32m<ipython-input-3-08378e7d4801>\u001b[0m in \u001b[0;36madd\u001b[0;34m(self, startLength, startWidth, endLength, endWidth)\u001b[0m\n\u001b[1;32m     72\u001b[0m         \u001b[0;32massert\u001b[0m \u001b[0misinstance\u001b[0m\u001b[0;34m(\u001b[0m\u001b[0mendLength\u001b[0m\u001b[0;34m,\u001b[0m \u001b[0mint\u001b[0m\u001b[0;34m)\u001b[0m\u001b[0;34m,\u001b[0m \u001b[0;34m'Invalid input: parameter endLength is not type int'\u001b[0m\u001b[0;34m\u001b[0m\u001b[0m\n\u001b[1;32m     73\u001b[0m         \u001b[0;32massert\u001b[0m \u001b[0misinstance\u001b[0m\u001b[0;34m(\u001b[0m\u001b[0mendWidth\u001b[0m\u001b[0;34m,\u001b[0m \u001b[0mint\u001b[0m\u001b[0;34m)\u001b[0m\u001b[0;34m,\u001b[0m \u001b[0;34m'Invalid input: parameter endWidth is not type int'\u001b[0m\u001b[0;34m\u001b[0m\u001b[0m\n\u001b[0;32m---> 74\u001b[0;31m         \u001b[0;32massert\u001b[0m \u001b[0mstartLength\u001b[0m \u001b[0;32min\u001b[0m \u001b[0mrange\u001b[0m\u001b[0;34m(\u001b[0m\u001b[0;36m0\u001b[0m\u001b[0;34m,\u001b[0m \u001b[0mendLength\u001b[0m\u001b[0;34m)\u001b[0m\u001b[0;34m,\u001b[0m \u001b[0;34m'Invalid input: paramater startLength is not in range'\u001b[0m\u001b[0;34m\u001b[0m\u001b[0m\n\u001b[0m\u001b[1;32m     75\u001b[0m         \u001b[0;32massert\u001b[0m \u001b[0mstartWidth\u001b[0m \u001b[0;32min\u001b[0m \u001b[0mrange\u001b[0m\u001b[0;34m(\u001b[0m\u001b[0;36m0\u001b[0m\u001b[0;34m,\u001b[0m \u001b[0mendWidth\u001b[0m\u001b[0;34m)\u001b[0m\u001b[0;34m,\u001b[0m \u001b[0;34m'Invalid input: paramater startWidth is not in range'\u001b[0m\u001b[0;34m\u001b[0m\u001b[0m\n\u001b[1;32m     76\u001b[0m         \u001b[0;32massert\u001b[0m \u001b[0mendLength\u001b[0m \u001b[0;32min\u001b[0m \u001b[0mrange\u001b[0m\u001b[0;34m(\u001b[0m\u001b[0mstartLength\u001b[0m \u001b[0;34m+\u001b[0m \u001b[0;36m1\u001b[0m\u001b[0;34m,\u001b[0m \u001b[0mself\u001b[0m\u001b[0;34m.\u001b[0m\u001b[0mlength\u001b[0m \u001b[0;34m+\u001b[0m \u001b[0;36m1\u001b[0m\u001b[0;34m)\u001b[0m\u001b[0;34m,\u001b[0m \u001b[0;34m'Invalid input: paramater endLength is not in range'\u001b[0m\u001b[0;34m\u001b[0m\u001b[0m\n",
      "\u001b[0;31mAssertionError\u001b[0m: Invalid input: paramater startLength is not in range"
     ]
    }
   ],
   "source": [
    "# Test Case 2 for add: out of bounds \n",
    "xLim = 6\n",
    "yLim = 6\n",
    "net = MyClass(xLim, yLim)\n",
    "startLength = -1\n",
    "startWidth = 0\n",
    "endLength = 5\n",
    "endWidth = 5\n",
    "value = net.add(startLength, startWidth, endLength, endWidth) \n",
    "net.displayMap()"
   ]
  },
  {
   "cell_type": "code",
   "execution_count": 17,
   "metadata": {},
   "outputs": [
    {
     "name": "stdout",
     "output_type": "stream",
     "text": [
      "Resulting resolved coverage: 39 for 10 communication towers\n"
     ]
    },
    {
     "name": "stderr",
     "output_type": "stream",
     "text": [
      "/opt/conda/lib/python3.6/site-packages/matplotlib/cbook/deprecation.py:106: MatplotlibDeprecationWarning: Adding an axes using the same arguments as a previous axes currently reuses the earlier instance.  In a future version, a new instance will always be created and returned.  Meanwhile, this warning can be suppressed, and the future behavior ensured, by passing a unique label to each axes instance.\n",
      "  warnings.warn(message, mplDeprecation, stacklevel=1)\n"
     ]
    },
    {
     "data": {
      "image/png": "[encoded data removed]",
      "text/plain": [
       "<matplotlib.figure.Figure at 0x7f32055493c8>"
      ]
     },
     "metadata": {},
     "output_type": "display_data"
    },
    {
     "name": "stdout",
     "output_type": "stream",
     "text": [
      "39\n",
      "Total area of coverage relative to desired total coverage area: 39.0%\n",
      "On average across 10 experiments, it takes 54.4 communication towers before full coverage is obtained\n"
     ]
    }
   ],
   "source": [
    "# (1) Given an overall desired coverage footprint and a sequence of \n",
    "#     n communications towers, what is the resulting resolved coverage?\n",
    "n = 10\n",
    "xLim = yLim = 10\n",
    "obj = MyClass(xLim, yLim)\n",
    "for j in range(0, n):\n",
    "    startLength = random.randint(0, xLim - 2)  \n",
    "    startWidth = random.randint(0, yLim - 2) \n",
    "    endLength = random.randint(startLength + 1, xLim)  \n",
    "    endWidth = random.randint(startWidth + 1, yLim)\n",
    "    value = obj.add(startLength, startWidth, endLength, endWidth)    \n",
    "    if value == 0: break\n",
    "print ('Resulting resolved coverage: ' + str(obj.currentArea) + ' for ' + str(n) + ' communication towers')\n",
    "obj.displayMap()\n",
    "print (obj.getCurrentArea())\n",
    "# (2) What is the total area of coverage relative to the desired total \n",
    "#     coverage area of the original footprint? That is, are there any gaps in coverage?\n",
    "print ('Total area of coverage relative to desired total coverage area: ' + str(obj.currentArea * 100.0 / obj.totalArea) + '%')\n",
    "# (3) On average, how many communications towers are required before full coverage is obtained?\n",
    "xLim = yLim = 13\n",
    "obj = MyClass(xLim, yLim)\n",
    "numExperiment = 10\n",
    "maxTrial = 100\n",
    "aList = list([0] * (numExperiment))\n",
    "currentSum = 0\n",
    "# after this loop found numExperiment full maps\n",
    "for i in range(0, numExperiment):\n",
    "# after this loop we found one full map\n",
    "    for j in range(0, maxTrial):\n",
    "        startLength = random.randint(0, xLim - 2)  \n",
    "        startWidth = random.randint(0, yLim - 2) \n",
    "        endLength = random.randint(startLength + 1, xLim)  \n",
    "        endWidth = random.randint(startWidth + 1, yLim)\n",
    "        value = obj.add(startLength, startWidth, endLength, endWidth)    \n",
    "        if value == 0:\n",
    "            currentSum += obj.tower\n",
    "            break\n",
    "            \n",
    "print ('On average across ' + str(numExperiment) + ' experiments, it takes ' + str(currentSum * 1.0/numExperiment) + ' communication towers before full coverage is obtained')         \n",
    "    "
   ]
  },
  {
   "cell_type": "markdown",
   "metadata": {},
   "source": []
  }
 ],
 "metadata": {
  "kernelspec": {
   "display_name": "Python 3",
   "language": "python",
   "name": "python3"
  },
  "language_info": {
   "codemirror_mode": {
    "name": "ipython",
    "version": 3
   },
   "file_extension": ".py",
   "mimetype": "text/x-python",
   "name": "python",
   "nbconvert_exporter": "python",
   "pygments_lexer": "ipython3",
   "version": "3.6.1"
  }
 },
 "nbformat": 4,
 "nbformat_minor": 2
}
